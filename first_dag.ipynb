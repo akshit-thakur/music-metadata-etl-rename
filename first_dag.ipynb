{
 "cells": [
  {
   "cell_type": "code",
   "execution_count": 3,
   "id": "eb5c18f3",
   "metadata": {},
   "outputs": [
    {
     "name": "stdout",
     "output_type": "stream",
     "text": [
      "All Dag modules are ok ......\n"
     ]
    }
   ],
   "source": [
    "try:\n",
    "\n",
    "    from datetime import timedelta\n",
    "    from airflow import DAG\n",
    "    from airflow.operators.python import PythonOperator\n",
    "    from datetime import datetime\n",
    "    import pandas as pd\n",
    "\n",
    "    print(\"All Dag modules are ok ......\")\n",
    "except Exception as e:\n",
    "    print(\"Error  {} \".format(e))\n",
    "    \n",
    "    \n",
    "\n",
    "    \n",
    "def hello_world():\n",
    "    print(\"Hello World\")\n",
    "    return \"Hello world\"\n",
    "\n",
    "\n",
    "with DAG(\n",
    "        dag_id=\"first_dag\",\n",
    "    description=\"Hello world of DAG\"\n",
    "        schedule_interval=\"@daily\",\n",
    "        default_args={\n",
    "            \"owner\": \"airflow\",\n",
    "            \"retries\": 1,\n",
    "            \"retry_delay\": timedelta(minutes=5),\n",
    "            \"start_date\": datetime(2021, 1, 1),\n",
    "        },\n",
    "        catchup=False) as f:\n",
    "     hello_world = PythonOperator(\n",
    "        task_id=\"hello_world\",\n",
    "        python_callable=hello_world,\n",
    "        provide_context=True,\n",
    "        op_kwargs={\"name\":\"Akshit Thakur\"}\n",
    "    )"
   ]
  },
  {
   "cell_type": "code",
   "execution_count": null,
   "id": "4d63dbab",
   "metadata": {},
   "outputs": [],
   "source": []
  }
 ],
 "metadata": {
  "kernelspec": {
   "display_name": "Python 3 (ipykernel)",
   "language": "python",
   "name": "python3"
  },
  "language_info": {
   "codemirror_mode": {
    "name": "ipython",
    "version": 3
   },
   "file_extension": ".py",
   "mimetype": "text/x-python",
   "name": "python",
   "nbconvert_exporter": "python",
   "pygments_lexer": "ipython3",
   "version": "3.8.11"
  }
 },
 "nbformat": 4,
 "nbformat_minor": 5
}
