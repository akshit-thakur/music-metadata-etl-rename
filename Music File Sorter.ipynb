{
 "cells": [
  {
   "cell_type": "markdown",
   "id": "f3f2ca17",
   "metadata": {},
   "source": [
    "## Importing Libraries"
   ]
  },
  {
   "cell_type": "code",
   "execution_count": 1,
   "id": "6369f8cb",
   "metadata": {},
   "outputs": [],
   "source": [
    "import os\n",
    "import datetime\n",
    "import eyed3\n",
    "import shutil\n",
    "import mysql.connector"
   ]
  },
  {
   "cell_type": "markdown",
   "id": "4a1740b3",
   "metadata": {},
   "source": [
    "## Logfile creation"
   ]
  },
  {
   "cell_type": "code",
   "execution_count": 2,
   "id": "07638671",
   "metadata": {},
   "outputs": [],
   "source": [
    "timestamp = str(datetime.datetime.now().strftime(\"%Y%m%d_%H-%M-%S\"))\n",
    "filename = ''.join(['log_',timestamp])\n",
    "log_file = open(file=filename,mode='w',encoding='utf-8')"
   ]
  },
  {
   "cell_type": "markdown",
   "id": "cc218c77",
   "metadata": {},
   "source": [
    "## Source and Destination"
   ]
  },
  {
   "cell_type": "code",
   "execution_count": 3,
   "id": "68625bd6",
   "metadata": {},
   "outputs": [],
   "source": [
    "source = \"/mnt/d/Songs/complete songs\"\n",
    "destination = \"/mnt/d/Songs/complete songs\""
   ]
  },
  {
   "cell_type": "markdown",
   "id": "a74b1bdc",
   "metadata": {},
   "source": [
    "## Utility functions"
   ]
  },
  {
   "cell_type": "code",
   "execution_count": 4,
   "id": "f12dd812",
   "metadata": {},
   "outputs": [],
   "source": [
    "def copy_file(subdir,filename,destination,count=0):\n",
    "    try:\n",
    "        file_path = os.path.join(subdir, files)\n",
    "        shutil.copy(file_path,destination)\n",
    "        log_file.writelines(['SUCCESS: '+file_path+' successfully copied\\n'])\n",
    "        count += 1\n",
    "    except FileNotFoundError:\n",
    "        log_file.writelines(['ERROR: '+file_path+' not found\\n'])\n",
    "    except shutil.SameFileError:\n",
    "        new_filename = files[:-4]+'_copy'+files[-4:]\n",
    "        new_file_path = os.path.join(subdir,new_filename)\n",
    "        log_file.writelines(['ERROR: '+file_path+' already exists. Renaming to '+new_filename+'\\n'])\n",
    "        os.rename(file_path,new_file_path)\n",
    "        copy_file(subdir,filename,destination)\n",
    "        \n",
    "def rename_file(source,filename, new_filename):\n",
    "    try:\n",
    "        file_path = os.path.join(source, filename)\n",
    "        new_file_path = os.path.join(source, new_filename)\n",
    "        os.rename(file_path, new_file_path)\n",
    "        log_file.write('SUCCESS: '+file_path+' renamed to '+new_file_path+' ...\\n')\n",
    "    except FileExistsError:\n",
    "        new_filename = filename[:-4]+'_copy'+filename[-4:]\n",
    "        new_file_path = os.path.join(source, new_filename)\n",
    "        os.rename(file_path, new_file_path)\n",
    "        log_file.write('SUCCESS: '+file_path+' renamed to '+new_file_path+' ...\\n')"
   ]
  },
  {
   "cell_type": "markdown",
   "id": "f89da8a5",
   "metadata": {},
   "source": [
    "## Bring files to parent directory"
   ]
  },
  {
   "cell_type": "code",
   "execution_count": 5,
   "id": "f6ac372c",
   "metadata": {},
   "outputs": [
    {
     "ename": "TypeError",
     "evalue": "unsupported operand type(s) for +: 'int' and 'str'",
     "output_type": "error",
     "traceback": [
      "\u001b[0;31m---------------------------------------------------------------------------\u001b[0m",
      "\u001b[0;31mTypeError\u001b[0m                                 Traceback (most recent call last)",
      "\u001b[0;32m/tmp/ipykernel_14441/3007174662.py\u001b[0m in \u001b[0;36m<module>\u001b[0;34m\u001b[0m\n\u001b[1;32m     12\u001b[0m \u001b[0;31m#         except OSError:\u001b[0m\u001b[0;34m\u001b[0m\u001b[0;34m\u001b[0m\u001b[0;34m\u001b[0m\u001b[0m\n\u001b[1;32m     13\u001b[0m \u001b[0;31m#             log_file.write('The directory is not empty: '+subdir+' ...\\n')\u001b[0m\u001b[0;34m\u001b[0m\u001b[0;34m\u001b[0m\u001b[0;34m\u001b[0m\u001b[0m\n\u001b[0;32m---> 14\u001b[0;31m \u001b[0mlog_file\u001b[0m\u001b[0;34m.\u001b[0m\u001b[0mwrite\u001b[0m\u001b[0;34m(\u001b[0m\u001b[0mcount\u001b[0m\u001b[0;34m+\u001b[0m\u001b[0;34m' number of files successfully copied'\u001b[0m\u001b[0;34m)\u001b[0m\u001b[0;34m\u001b[0m\u001b[0;34m\u001b[0m\u001b[0m\n\u001b[0m",
      "\u001b[0;31mTypeError\u001b[0m: unsupported operand type(s) for +: 'int' and 'str'"
     ]
    }
   ],
   "source": [
    "count = 0\n",
    "\n",
    "for subdir,inner_dir,list_files in os.walk(source):\n",
    "    if subdir == \"/mnt/d/Songs/complete songs\":\n",
    "        pass\n",
    "    else:\n",
    "        for files in list_files:\n",
    "            copy_file(subdir,files,destination,count)\n",
    "#         try:\n",
    "#             os.rmdir(subdir)\n",
    "#             log_file.write('Subdirectory '+subdir+' removed...\\n')\n",
    "#         except OSError:\n",
    "#             log_file.write('The directory is not empty: '+subdir+' ...\\n')\n",
    "log_file.write(str(count)+' number of files successfully copied')"
   ]
  },
  {
   "cell_type": "markdown",
   "id": "60b17fa5",
   "metadata": {},
   "source": [
    "## Data Cleaning"
   ]
  },
  {
   "cell_type": "code",
   "execution_count": 36,
   "id": "3ee3fb9b",
   "metadata": {},
   "outputs": [],
   "source": [
    "list_files = list(os.walk(source))[0][2]\n",
    "for files in list_files:\n",
    "    if files[-3:].lower() not in ['mp3','wma','m4a','mp4','mkv']:\n",
    "        print(files)"
   ]
  },
  {
   "cell_type": "markdown",
   "id": "2d95aa31",
   "metadata": {},
   "source": [
    "## Remove digits in suffix"
   ]
  },
  {
   "cell_type": "code",
   "execution_count": 37,
   "id": "a85b6768",
   "metadata": {},
   "outputs": [],
   "source": [
    "for count,filename in enumerate(os.listdir(source)):\n",
    "    \n",
    "    if(filename[-3:].lower() == 'mp3'):\n",
    "        log_file.write('Handling an mp3 file...\\n')\n",
    "        log_file.write('Filename: '+filename+'\\n')\n",
    "        \n",
    "        \n",
    "        new_filename = ''\n",
    "        start = 0 \n",
    "\n",
    "        #remove non-alphabetic prefix\n",
    "        for char in filename.lower():\n",
    "            if char < 'a' or char > 'z':\n",
    "                start += 1\n",
    "            else:\n",
    "                break\n",
    "\n",
    "        # start renaming from first letter\n",
    "        for char in filename[start:]:\n",
    "\n",
    "            if char == '.': #start of extension part - not necessarily\n",
    "                break\n",
    "            else:\n",
    "                new_filename += char\n",
    "                \n",
    "        new_filename += '.mp3'\n",
    "        new_filename = new_filename.lower()\n",
    "        if filename.lower() == new_filename:\n",
    "            log_file.write('No numeric characters found in filename, proceeding...\\n')\n",
    "            pass\n",
    "        else:\n",
    "            if len(new_filename) == 4:\n",
    "                log_file.write('Only numeric characters found in filename, renaming to untitled...\\n')\n",
    "                new_filename = 'untitled.mp3'\n",
    "            rename_file(source,filename, new_filename)\n",
    "    else:\n",
    "        log_file.write(filename+'  is not an mp3 file, skipping...\\n')"
   ]
  },
  {
   "cell_type": "markdown",
   "id": "f3251910",
   "metadata": {},
   "source": [
    "## Reading music file metadata"
   ]
  },
  {
   "cell_type": "code",
   "execution_count": null,
   "id": "7b40f693",
   "metadata": {},
   "outputs": [],
   "source": [
    "audiofile = eyed3.load(\"D:\\Songs\\complete songs\\English\\Alan Walker - Tired.mp3\")\n",
    "\n",
    "## need DB to find music tags OR create AI to group music by artist, tag later OR create music\n",
    "\n",
    "\n",
    "for count,filename in enumerate(os.listdir(source)):\n",
    "    print(filename)"
   ]
  },
  {
   "cell_type": "code",
   "execution_count": null,
   "id": "880d4c41",
   "metadata": {},
   "outputs": [],
   "source": [
    "source = \"D:/Songs/complete songs/\"\n",
    "\n",
    "extension_count = {}\n",
    "\n",
    "for count,filename in enumerate(os.listdir(source)):\n",
    "    extension = filename[-3:]\n",
    "    if extension not in extension_count:\n",
    "        extension_count[extension] = 1\n",
    "    else:\n",
    "        extension_count[extension] += 1\n",
    "\n",
    "print(extension_count)"
   ]
  },
  {
   "cell_type": "code",
   "execution_count": null,
   "id": "cc24986c",
   "metadata": {},
   "outputs": [],
   "source": [
    "source = \"/mnt/d/Songs/complete songs\"\n",
    "\n",
    "timestamp = str(datetime.datetime.now().strftime(\"%Y%m%d_%H-%M-%S\"))\n",
    "filename = ''.join(['log_',timestamp])\n",
    "\n",
    "\n",
    "for count,filename in enumerate(os.listdir(source)):\n",
    "    print(filename)"
   ]
  },
  {
   "cell_type": "code",
   "execution_count": 6,
   "id": "625fa0cb",
   "metadata": {},
   "outputs": [
    {
     "name": "stdout",
     "output_type": "stream",
     "text": [
      "0\n"
     ]
    }
   ],
   "source": [
    "print(count)"
   ]
  },
  {
   "cell_type": "code",
   "execution_count": null,
   "id": "b02921f8",
   "metadata": {},
   "outputs": [],
   "source": []
  }
 ],
 "metadata": {
  "kernelspec": {
   "display_name": "Python 3 (ipykernel)",
   "language": "python",
   "name": "python3"
  },
  "language_info": {
   "codemirror_mode": {
    "name": "ipython",
    "version": 3
   },
   "file_extension": ".py",
   "mimetype": "text/x-python",
   "name": "python",
   "nbconvert_exporter": "python",
   "pygments_lexer": "ipython3",
   "version": "3.8.11"
  }
 },
 "nbformat": 4,
 "nbformat_minor": 5
}
