{
 "cells": [
  {
   "cell_type": "markdown",
   "id": "e80ddd9f",
   "metadata": {},
   "source": [
    "## Importing Libraries"
   ]
  },
  {
   "cell_type": "code",
   "execution_count": 1,
   "id": "34567dad",
   "metadata": {},
   "outputs": [
    {
     "name": "stdout",
     "output_type": "stream",
     "text": [
      "All Dag modules are ok ......\n"
     ]
    }
   ],
   "source": [
    "try:\n",
    "    from datetime import timedelta\n",
    "    from airflow import DAG\n",
    "    from airflow.operators.python import PythonOperator\n",
    "    from datetime import datetime\n",
    "    import os\n",
    "    import datetime\n",
    "    import eyed3\n",
    "    import shutil\n",
    "    import mysql.connector\n",
    "    print(\"All DAG modules are ok ......\")\n",
    "except Exception as e:\n",
    "    print(f'{e}')"
   ]
  },
  {
   "cell_type": "markdown",
   "id": "d3137d17",
   "metadata": {},
   "source": [
    "## Step 1: Bring all files from subdirectories to main directory"
   ]
  },
  {
   "cell_type": "markdown",
   "id": "c0c23f00",
   "metadata": {},
   "source": [
    "### Utility Function"
   ]
  },
  {
   "cell_type": "code",
   "execution_count": 5,
   "id": "f69ae79e",
   "metadata": {},
   "outputs": [],
   "source": [
    "def copy_file(subdir,filename,destination):\n",
    "    try:\n",
    "        file_path = os.path.join(subdir, filename)\n",
    "        shutil.copy(file_path,destination)\n",
    "        print('SUCCESS: '+file_path+' successfully copied\\n')\n",
    "        count += 1\n",
    "    except FileNotFoundError:\n",
    "        log_file.writelines(['ERROR: '+file_path+' not found\\n'])\n",
    "    except shutil.SameFileError:\n",
    "        new_filename = files[:-4]+'_copy'+files[-4:]\n",
    "        new_file_path = os.path.join(subdir,new_filename)\n",
    "        print('ERROR: '+file_path+' already exists. Renaming to '+new_filename)\n",
    "        os.rename(file_path,new_file_path)\n",
    "        copy_file(subdir,filename,destination)"
   ]
  },
  {
   "cell_type": "markdown",
   "id": "37c93cc6",
   "metadata": {},
   "source": [
    "### Main Function"
   ]
  },
  {
   "cell_type": "code",
   "execution_count": 6,
   "id": "5c135b8c",
   "metadata": {},
   "outputs": [],
   "source": [
    "def bring_files_to_parent_dir(*args,**kwargs):\n",
    "    pass\n",
    "#     source = kwargs.get(\"source\")\n",
    "#     destination = kwargs.get('destination')\n",
    "#     for subdir,inner_dir,list_files in os.walk(source):\n",
    "#         if subdir == \"/mnt/d/Songs/complete songs\":\n",
    "#             pass\n",
    "#         else:\n",
    "#             for files in list_files:\n",
    "#                 copy_file(subdir,files,destination)"
   ]
  },
  {
   "cell_type": "markdown",
   "id": "950c416f",
   "metadata": {},
   "source": [
    "## Step 1.1: Data Cleaning - Remove non audio files from parent directory"
   ]
  },
  {
   "cell_type": "code",
   "execution_count": 7,
   "id": "aeb6b5db",
   "metadata": {},
   "outputs": [],
   "source": [
    "def data_cleaning(*args,**kwargs):\n",
    "    source = kwargs.get(\"source\")\n",
    "    print(list(os.walk(source)))\n",
    "    list_files = list(os.walk(source))[0][2]\n",
    "    for files in list_files:\n",
    "        if files[-3:].lower() not in ['mp3','wma','m4a','mp4','mkv']:\n",
    "            print(files)"
   ]
  },
  {
   "cell_type": "markdown",
   "id": "2277b632",
   "metadata": {},
   "source": [
    "## Step 2: Removing digits in suffix"
   ]
  },
  {
   "cell_type": "markdown",
   "id": "f4549f39",
   "metadata": {},
   "source": [
    "### Utility Function"
   ]
  },
  {
   "cell_type": "code",
   "execution_count": 12,
   "id": "d9312a8d",
   "metadata": {},
   "outputs": [],
   "source": [
    "def rename_file(source,filename, new_filename):\n",
    "    file_path = os.path.join(source, filename)\n",
    "    new_file_path = os.path.join(source, new_filename)\n",
    "    while os.path.exists(new_file_path):\n",
    "        print(new_file_path+' exists')\n",
    "        new_filename = new_filename[:-4]+'_copy'+filename[-4:]\n",
    "        new_file_path = os.path.join(source, new_filename)\n",
    "        \n",
    "    os.rename(file_path, new_file_path)\n",
    "    print('SUCCESS: '+file_path+' renamed to '+new_file_path+' ...')"
   ]
  },
  {
   "cell_type": "markdown",
   "id": "6f688706",
   "metadata": {},
   "source": [
    "### Main Function"
   ]
  },
  {
   "cell_type": "code",
   "execution_count": 8,
   "id": "0464efb8",
   "metadata": {},
   "outputs": [],
   "source": [
    "def remove_numbers(*args,**kwargs):\n",
    "    source = kwargs.get(\"source\")\n",
    "    for count,filename in enumerate(os.listdir(source)):\n",
    "        if(filename[-3:].lower() == 'mp3'):\n",
    "            log_file.write('Handling an mp3 file...\\n')\n",
    "            log_file.write('Filename: '+filename+'\\n')\n",
    "\n",
    "\n",
    "            new_filename = ''\n",
    "            start = 0 \n",
    "\n",
    "            #remove non-alphabetic prefix\n",
    "            for char in filename.lower():\n",
    "                if char < 'a' or char > 'z':\n",
    "                    start += 1\n",
    "                else:\n",
    "                    break\n",
    "\n",
    "            new_filename = filename[start:].lower()\n",
    "\n",
    "            if filename.lower() == new_filename:\n",
    "                print('No numeric characters found in filename, proceeding...')\n",
    "                pass\n",
    "            else:\n",
    "                if len(new_filename) == 4:\n",
    "                    print('Only numeric characters found in filename, renaming to untitled...')\n",
    "                    new_filename = 'untitled.mp3'\n",
    "                rename_file(source,filename, new_filename)\n",
    "        else:\n",
    "            print(filename+'  is not an mp3 file, skipping...')"
   ]
  },
  {
   "cell_type": "markdown",
   "id": "fc81c423",
   "metadata": {},
   "source": [
    "## Step 3: Reading Music Metadata into file\n",
    "\n",
    "Can also fire an insert statement after each record is created. But this is better way so that there is an intermediate before data load operations"
   ]
  },
  {
   "cell_type": "code",
   "execution_count": 9,
   "id": "73c333cf",
   "metadata": {},
   "outputs": [],
   "source": [
    "def write_metadata_to_file(*args,**kwargs):\n",
    "    timestamp = str(datetime.datetime.now().strftime(\"%Y%m%d_%H-%M-%S\"))\n",
    "    filename = ''.join(['music_metadata_',timestamp])\n",
    "    music_metadata_file = open(file=filename,mode='w',encoding='utf-8')\n",
    "\n",
    "    source = kwargs.get(\"source\")\n",
    "    \n",
    "    list_files = list(os.walk(source))[0][2]\n",
    "    \n",
    "    headers = ['filename','album','artist','composer','genre','get_best_date','release_date','tagging_date','title','bitrate','runtime_seconds']\n",
    "    \n",
    "    \n",
    "    header_line = '\\t'.join([header for header in headers])\n",
    "    \n",
    "    music_metadata_file.write(header_line+'\\n')\n",
    "    \n",
    "    \n",
    "    for filename in list_files:\n",
    "        song_info = {}\n",
    "            \n",
    "        audiofile = eyed3.load(''.join([source,'/',filename]))\n",
    "        \n",
    "        song_info['filename'] = filename\n",
    "        \n",
    "        try:\n",
    "            audiotag = audiofile.tag\n",
    "            if audiotag is not None:\n",
    "                song_info['album'] = audiotag.album\n",
    "                song_info['artist'] = audiotag.artist\n",
    "                song_info['composer'] = audiotag.composer\n",
    "                song_info['genre'] = audiotag.genre\n",
    "                song_info['get_best_date'] = audiotag.getBestDate()\n",
    "                song_info[f'release_date'] = audiotag.release_date\n",
    "                song_info['tagging_date'] = audiotag.tagging_date\n",
    "                song_info['title'] = audiotag.title\n",
    "            \n",
    "        except AttributeError:\n",
    "            pass #do nothing because take care of in dictionary initialization\n",
    "\n",
    "        try:\n",
    "            audio_info = audiofile.info\n",
    "            if audio_info is not None:\n",
    "                song_info['bitrate'] = audio_info.bit_rate_str\n",
    "                song_info['runtime_seconds'] = audio_info.time_secs\n",
    "        except AttributeError:\n",
    "            pass\n",
    "\n",
    "\n",
    "        for header in headers:\n",
    "            try:\n",
    "                music_metadata_file.write(str(song_info[header])+'\\t')\n",
    "            except:\n",
    "                music_metadata_file.write('\\t')\n",
    "                \n",
    "        music_metadata_file.write('\\n')\n",
    "        \n",
    "    music_metadata_file.close()"
   ]
  },
  {
   "cell_type": "markdown",
   "id": "1f9d2dec",
   "metadata": {},
   "source": [
    "## Step 4: Loading from file into MySQL"
   ]
  },
  {
   "cell_type": "code",
   "execution_count": 10,
   "id": "ec221d0e",
   "metadata": {},
   "outputs": [],
   "source": [
    "def write_metadata_to_db(*args,**kwargs):\n",
    "    #read each record, apply QC checks, trim data [no unnecessary characters] & load into DB. Other examples are rouding off runtime & removing ~ from ~160kBps\n",
    "    pass"
   ]
  },
  {
   "cell_type": "markdown",
   "id": "dc94383a",
   "metadata": {},
   "source": [
    "## Step 5: Calling DAG"
   ]
  },
  {
   "cell_type": "code",
   "execution_count": 11,
   "id": "a1da458a",
   "metadata": {},
   "outputs": [],
   "source": [
    "with DAG(\n",
    "    dag_id=\"Music_Renaming_DAG\",\n",
    "    description='DAG to fix the music metadata through SQL load and search',\n",
    "    default_args={\n",
    "        \"owner\": \"airflow\",\n",
    "        \"retries\": 1,\n",
    "        \"retry_delay\": timedelta(minutes=5),\n",
    "        \"start_date\": datetime.datetime(2021, 1, 1),\n",
    "    },\n",
    "    catchup=False\n",
    ") as f:\n",
    "    \n",
    "    bring_files_to_parent_dir = PythonOperator(\n",
    "    task_id='bring_files_to_parent_dir',\n",
    "    python_callable=bring_files_to_parent_dir,\n",
    "    op_kwargs={\"source\":\"/mnt/d/Songs/complete songs\",\"destination\":\"/mnt/d/Songs/complete songs\"})\n",
    "    \n",
    "    \n",
    "    remove_numbers = PythonOperator(\n",
    "    task_id='remove_numbers',\n",
    "    python_callable=remove_numbers,\n",
    "    op_kwargs={\"source\":\"/mnt/d/Songs/complete songs\"})\n",
    "    \n",
    "    data_cleaning = PythonOperator(\n",
    "    task_id='data_cleaning',\n",
    "    python_callable=data_cleaning,\n",
    "    op_kwargs={\"source\":\"/mnt/d/Songs/complete songs\"})\n",
    "    \n",
    "    write_metadata_to_file = PythonOperator(\n",
    "    task_id='write_metadata_to_file',\n",
    "    python_callable=write_metadata_to_file,\n",
    "    op_kwargs={\"source\":\"/mnt/d/Songs/complete songs\"})\n",
    "    \n",
    "    write_metadata_to_db = PythonOperator(\n",
    "    task_id='write_metadata_to_db',\n",
    "    python_callable=write_metadata_to_db,\n",
    "    op_kwargs={\"source\":\"/mnt/d/Songs/complete songs\"})\n",
    "    \n",
    "    bring_files_to_parent_dir >> data_cleaning >> remove_numbers >> write_metadata_to_file >> write_metadata_to_db"
   ]
  }
 ],
 "metadata": {
  "kernelspec": {
   "display_name": "Python 3 (ipykernel)",
   "language": "python",
   "name": "python3"
  },
  "language_info": {
   "codemirror_mode": {
    "name": "ipython",
    "version": 3
   },
   "file_extension": ".py",
   "mimetype": "text/x-python",
   "name": "python",
   "nbconvert_exporter": "python",
   "pygments_lexer": "ipython3",
   "version": "3.8.11"
  }
 },
 "nbformat": 4,
 "nbformat_minor": 5
}
