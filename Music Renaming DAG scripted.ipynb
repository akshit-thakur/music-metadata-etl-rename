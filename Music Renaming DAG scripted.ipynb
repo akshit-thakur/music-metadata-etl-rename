{
 "cells": [
  {
   "cell_type": "markdown",
   "id": "d42d201f",
   "metadata": {},
   "source": [
    "## Importing Libraries"
   ]
  },
  {
   "cell_type": "code",
   "execution_count": 4,
   "id": "ec4c1208",
   "metadata": {},
   "outputs": [
    {
     "name": "stdout",
     "output_type": "stream",
     "text": [
      "All DAG modules are ok ......\n"
     ]
    }
   ],
   "source": [
    "try:\n",
    "    from datetime import timedelta\n",
    "    from airflow import DAG\n",
    "    from airflow.operators.bash import BashOperator\n",
    "    from datetime import datetime\n",
    "    import os\n",
    "    import datetime\n",
    "    import eyed3\n",
    "    import shutil\n",
    "    import mysql.connector\n",
    "    print(\"All DAG modules are ok ......\")\n",
    "except Exception as e:\n",
    "    print(f'{e}')"
   ]
  },
  {
   "cell_type": "code",
   "execution_count": null,
   "id": "f1a0f34f",
   "metadata": {},
   "outputs": [],
   "source": [
    "with DAG(\n",
    "    dag_id=\"Music_Renaming_DAG_scripted\",\n",
    "    description='DAG to fix the music metadata through SQL load and search via Bash Scripts',\n",
    "    default_args={\n",
    "        \"owner\": \"airflow\",\n",
    "        \"retries\": 1,\n",
    "        \"retry_delay\": timedelta(minutes=5),\n",
    "        \"start_date\": datetime.datetime(2021, 1, 1),\n",
    "    },\n",
    "    catchup=False\n",
    ") as f:\n",
    "    \n",
    "    bring_files_to_parent_dir = BashOperator(\n",
    "    task_id='bring_files_to_parent_dir',\n",
    "    bash_command='python /home/akshit/python-code/bring_files_to_main_directory.py'\n",
    "    \n",
    "    remove_numbers = BashOperator(\n",
    "    task_id='remove_numbers',\n",
    "    bash_command='python /home/akshit/python-code/remove_digits.py')\n",
    "    \n",
    "    data_cleaning = BashOperator(\n",
    "    task_id='data_cleaning',\n",
    "    bash_command='python /home/akshit/python-code/clean_music_data.py')\n",
    "    \n",
    "    write_metadata_to_file = BashOperator(\n",
    "    task_id='write_metadata_to_file',\n",
    "    bash_command='python /home/akshit/python-code/write_metadata_to_file.py')\n",
    "    \n",
    "#     write_metadata_to_db = PythonOperator(\n",
    "#     task_id='write_metadata_to_db',\n",
    "#     python_callable=write_metadata_to_db,\n",
    "#     op_kwargs={\"source\":\"/mnt/d/Songs/complete songs\"})\n",
    "    \n",
    "    bring_files_to_parent_dir >> data_cleaning >> remove_numbers >> write_metadata_to_file \n",
    "#         >> write_metadata_to_db"
   ]
  }
 ],
 "metadata": {
  "kernelspec": {
   "display_name": "Python 3 (ipykernel)",
   "language": "python",
   "name": "python3"
  },
  "language_info": {
   "codemirror_mode": {
    "name": "ipython",
    "version": 3
   },
   "file_extension": ".py",
   "mimetype": "text/x-python",
   "name": "python",
   "nbconvert_exporter": "python",
   "pygments_lexer": "ipython3",
   "version": "3.8.11"
  }
 },
 "nbformat": 4,
 "nbformat_minor": 5
}
