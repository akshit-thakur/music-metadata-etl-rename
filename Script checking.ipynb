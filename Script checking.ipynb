{
 "cells": [
  {
   "cell_type": "code",
   "execution_count": null,
   "id": "e6a21d3d",
   "metadata": {},
   "outputs": [],
   "source": [
    "def data_cleaning():\n",
    "    source = '/mnt/d/Songs/complete songs/'\n",
    "    print(list(os.walk(source)))\n",
    "    list_files = list(os.walk(source))[0][2]\n",
    "    for files in list_files:\n",
    "        if files[-3:].lower() not in ['mp3','wma','m4a','mp4','mkv']:\n",
    "            print(files)"
   ]
  }
 ],
 "metadata": {
  "kernelspec": {
   "display_name": "Python 3 (ipykernel)",
   "language": "python",
   "name": "python3"
  },
  "language_info": {
   "codemirror_mode": {
    "name": "ipython",
    "version": 3
   },
   "file_extension": ".py",
   "mimetype": "text/x-python",
   "name": "python",
   "nbconvert_exporter": "python",
   "pygments_lexer": "ipython3",
   "version": "3.8.11"
  }
 },
 "nbformat": 4,
 "nbformat_minor": 5
}
